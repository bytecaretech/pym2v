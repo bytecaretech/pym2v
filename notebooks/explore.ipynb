{
 "cells": [
  {
   "cell_type": "code",
   "execution_count": null,
   "metadata": {},
   "outputs": [],
   "source": [
    "import pandas as pd\n",
    "from loguru import logger\n",
    "\n",
    "from pym2v.api import EurogardAPI\n",
    "\n",
    "logger.add(\"notebook.log\")"
   ]
  },
  {
   "cell_type": "code",
   "execution_count": null,
   "metadata": {},
   "outputs": [],
   "source": [
    "api = EurogardAPI()"
   ]
  },
  {
   "cell_type": "code",
   "execution_count": null,
   "metadata": {},
   "outputs": [],
   "source": [
    "machine_uuid = str(api.get_machines()[\"entities\"][0][\"uuid\"])\n",
    "result = api.get_machine_measurements(machine_uuid, page=5)\n",
    "measures = pd.DataFrame.from_dict(result[\"entities\"])\n",
    "measures.head()"
   ]
  },
  {
   "cell_type": "code",
   "execution_count": null,
   "metadata": {},
   "outputs": [],
   "source": [
    "df = api.get_long_frame_from_names(\n",
    "    machine_uuid=machine_uuid,\n",
    "    names=measures[\"name\"].to_list()[:3],\n",
    "    start=\"2024-01-01\",\n",
    "    end=\"2025-01-01\",\n",
    "    interval=\"60s\",\n",
    "    max_frame_length=\"30D\",\n",
    ")"
   ]
  },
  {
   "cell_type": "code",
   "execution_count": null,
   "metadata": {},
   "outputs": [],
   "source": [
    "df.info()\n",
    "print(f\"Completeness: {len(df.index) / len(pd.date_range(df.index[0], df.index[-1], freq='60s')):.3%}\")\n",
    "print(f\"Duplicates: {df.index.duplicated().sum()}\")"
   ]
  },
  {
   "cell_type": "code",
   "execution_count": null,
   "metadata": {},
   "outputs": [],
   "source": []
  }
 ],
 "metadata": {
  "kernelspec": {
   "display_name": ".venv",
   "language": "python",
   "name": "python3"
  },
  "language_info": {
   "codemirror_mode": {
    "name": "ipython",
    "version": 3
   },
   "file_extension": ".py",
   "mimetype": "text/x-python",
   "name": "python",
   "nbconvert_exporter": "python",
   "pygments_lexer": "ipython3",
   "version": "3.12.3"
  }
 },
 "nbformat": 4,
 "nbformat_minor": 2
}
